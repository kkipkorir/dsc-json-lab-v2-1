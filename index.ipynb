{
 "cells": [
  {
   "cell_type": "markdown",
   "metadata": {},
   "source": [
    "# JSON - Lab"
   ]
  },
  {
   "cell_type": "markdown",
   "metadata": {},
   "source": [
    "## Introduction\n",
    "\n",
    "In this lab, you'll practice navigating JSON data structures."
   ]
  },
  {
   "cell_type": "markdown",
   "metadata": {},
   "source": [
    "## Objectives\n",
    "\n",
    "You will be able to:\n",
    "\n",
    "* Practice using Python to load and parse JSON documents"
   ]
  },
  {
   "cell_type": "markdown",
   "metadata": {},
   "source": [
    "## Your Task: Find the Total Payments for Each Candidate\n",
    "\n",
    "We will be using the same dataset, `nyc_2001_campaign_finance.json`. The description of this file is:\n",
    "\n",
    "> A listing of public funds payments for candidates for City office during the 2001 election cycle\n",
    "\n",
    "For added context, the Ciy of New York provides matching funds for eligible contributions made to candidates, using various ratios depending on the contribution amount ([more details here](https://en.wikipedia.org/wiki/New_York_City_Campaign_Finance_Board#The_Campaign_Finance_Program)). So these are not the complete values of all funds raised by these candidates, they are the amounts matched by the city. For that reason we expect that some of the values will be identical for different candidates.\n",
    "\n",
    "The dataset is separated into `meta`, which contains metadata, and `data`, which contains the actual campaign finance records. You will need to use the information in `meta` to understand how to interpret the information in `data`.\n",
    "\n",
    "Your goal is to create a list of tuples, where the first value in each tuple is the name of a candidate in the 2001 election, and the second value is the total payments they received. The structure should look like this:\n",
    "\n",
    "```python\n",
    "[\n",
    "    (\"John Smith\", 62184.00),\n",
    "    (\"Jane Doe\", 133146.00),\n",
    "    ...\n",
    "]\n",
    "```\n",
    "\n",
    "The list should contain 284 tuples, since there were 284 candidates."
   ]
  },
  {
   "cell_type": "markdown",
   "metadata": {},
   "source": [
    "## Open the Dataset\n",
    "\n",
    "Import the `json` module, open the `nyc_2001_campaign_finance.json` file using the built-in Python `open` function, and load all of the data from the file into a Python object using `json.load`.\n",
    "\n",
    "Assign the result of `json.load` to the variable name `data`."
   ]
  },
  {
   "cell_type": "code",
   "execution_count": 1,
   "metadata": {},
   "outputs": [],
   "source": [
    "# Your code here\n",
    "import json\n",
    "\n",
    "with open('nyc_2001_campaign_finance.json') as f:\n",
    "    data = json.load(f)"
   ]
  },
  {
   "cell_type": "markdown",
   "metadata": {},
   "source": [
    "Recall the overall structure of this dataset:"
   ]
  },
  {
   "cell_type": "code",
   "execution_count": 3,
   "metadata": {},
   "outputs": [
    {
     "name": "stdout",
     "output_type": "stream",
     "text": [
      "The overall data type is <class 'dict'>\n",
      "The keys are ['meta', 'data']\n",
      "\n",
      "The value associated with the 'meta' key has metadata, including all of these attributes:\n",
      "['id', 'name', 'attribution', 'averageRating', 'category', 'createdAt', 'description', 'displayType', 'downloadCount', 'hideFromCatalog', 'hideFromDataJson', 'indexUpdatedAt', 'newBackend', 'numberOfComments', 'oid', 'provenance', 'publicationAppendEnabled', 'publicationDate', 'publicationGroup', 'publicationStage', 'rowClass', 'rowsUpdatedAt', 'rowsUpdatedBy', 'tableId', 'totalTimesRated', 'viewCount', 'viewLastModified', 'viewType', 'columns', 'grants', 'metadata', 'owner', 'query', 'rights', 'tableAuthor', 'tags', 'flags']\n",
      "\n",
      "The value associated with the 'data' key is a list of 285 records\n"
     ]
    }
   ],
   "source": [
    "# Run this cell without changes\n",
    "\n",
    "print(f\"The overall data type is {type(data)}\")\n",
    "print(f\"The keys are {list(data.keys())}\")\n",
    "print()\n",
    "print(\"The value associated with the 'meta' key has metadata, including all of these attributes:\")\n",
    "print(list(data['meta']['view'].keys()))\n",
    "print()\n",
    "print(f\"The value associated with the 'data' key is a list of {len(data['data'])} records\")"
   ]
  },
  {
   "cell_type": "markdown",
   "metadata": {},
   "source": [
    "## Find the Column Names\n",
    "\n",
    "We know that each record in the data list looks something like this:"
   ]
  },
  {
   "cell_type": "code",
   "execution_count": 4,
   "metadata": {},
   "outputs": [
    {
     "data": {
      "text/plain": [
       "[2,\n",
       " '9D257416-581A-4C42-85CC-B6EAD9DED97F',\n",
       " 2,\n",
       " 1315925633,\n",
       " '392904',\n",
       " 1315925633,\n",
       " '392904',\n",
       " '{\\n}',\n",
       " '2001',\n",
       " 'B4',\n",
       " 'Aboulafia, Sandy',\n",
       " '5',\n",
       " None,\n",
       " '44',\n",
       " 'P',\n",
       " '45410.00',\n",
       " '0',\n",
       " '0',\n",
       " '45410.00']"
      ]
     },
     "execution_count": 4,
     "metadata": {},
     "output_type": "execute_result"
    }
   ],
   "source": [
    "# Run this cell without changes\n",
    "data['data'][1]"
   ]
  },
  {
   "cell_type": "markdown",
   "metadata": {},
   "source": [
    "We could probably guess which of those values is the candidate name, but it's unclear which value is the total payments received. To get that information, we need to look at the metadata.\n",
    "\n",
    "Investigate the value of `data['meta']['view']['columns']`.\n",
    "\n",
    "Let `data['meta']['view']['columns']` be called `column_data`. Verify that `column_data` results in a list."
   ]
  },
  {
   "cell_type": "code",
   "execution_count": 8,
   "metadata": {},
   "outputs": [
    {
     "data": {
      "text/plain": [
       "list"
      ]
     },
     "execution_count": 8,
     "metadata": {},
     "output_type": "execute_result"
    }
   ],
   "source": [
    "# Your code here (create more cells as needed)\n",
    "column_data = data['meta']['view']['columns']\n",
    "type(column_data)\n"
   ]
  },
  {
   "cell_type": "markdown",
   "metadata": {},
   "source": [
    "Now look at the first few entries of `column_data`.\n",
    "\n",
    "The result should look something like this:\n",
    "\n",
    "```python\n",
    "[\n",
    "    \"sid\",\n",
    "    \"id\",\n",
    "    \"position\",\n",
    "    ...\n",
    "]\n",
    "```"
   ]
  },
  {
   "cell_type": "code",
   "execution_count": 9,
   "metadata": {},
   "outputs": [
    {
     "data": {
      "text/plain": [
       "{'id': -1,\n",
       " 'name': 'sid',\n",
       " 'dataTypeName': 'meta_data',\n",
       " 'fieldName': ':sid',\n",
       " 'position': 0,\n",
       " 'renderTypeName': 'meta_data',\n",
       " 'format': {},\n",
       " 'flags': ['hidden']}"
      ]
     },
     "execution_count": 9,
     "metadata": {},
     "output_type": "execute_result"
    }
   ],
   "source": [
    "# Your code here (create more cells as needed)\n",
    "column_data[0]\n",
    "# With a list, it's often useful to look at the\n",
    "# first entry, or first few entries"
   ]
  },
  {
   "cell_type": "markdown",
   "metadata": {},
   "source": [
    "`column_data` currently contains significantly more information than we need. Extract just the values associated with the `name` keys using list comprehension, so we have a list of the column names.\n",
    "\n",
    "Now name this variable `column_names`."
   ]
  },
  {
   "cell_type": "code",
   "execution_count": 12,
   "metadata": {},
   "outputs": [
    {
     "name": "stdout",
     "output_type": "stream",
     "text": [
      "19\n"
     ]
    },
    {
     "data": {
      "text/plain": [
       "['sid',\n",
       " 'id',\n",
       " 'position',\n",
       " 'created_at',\n",
       " 'created_meta',\n",
       " 'updated_at',\n",
       " 'updated_meta',\n",
       " 'meta',\n",
       " 'ELECTION',\n",
       " 'CANDID',\n",
       " 'CANDNAME',\n",
       " 'OFFICECD',\n",
       " 'OFFICEBORO',\n",
       " 'OFFICEDIST',\n",
       " 'CANCLASS',\n",
       " 'PRIMARYPAY',\n",
       " 'GENERALPAY',\n",
       " 'RUNOFFPAY',\n",
       " 'TOTALPAY']"
      ]
     },
     "execution_count": 12,
     "metadata": {},
     "output_type": "execute_result"
    }
   ],
   "source": [
    "# Your code here (create more cells as needed)\n",
    "\n",
    "column_names = [row['name'] for row in column_data]\n",
    "print(len(column_names))\n",
    "column_names"
   ]
  },
  {
   "cell_type": "code",
   "execution_count": 13,
   "metadata": {},
   "outputs": [],
   "source": [
    "# Run this cell without changes\n",
    "\n",
    "# There should be 19 names\n",
    "assert len(column_names) == 19\n",
    "# CANDNAME and TOTALPAY should be in there\n",
    "assert \"CANDNAME\" in column_names and \"TOTALPAY\" in column_names"
   ]
  },
  {
   "cell_type": "markdown",
   "metadata": {},
   "source": [
    "Now we know what each of the columns represents.\n",
    "\n",
    "The columns we are looking for are called `CANDNAME` and `TOTALPAY`. Now that we have this list, we should be able to figure out which of the values in each record lines up with those column names."
   ]
  },
  {
   "cell_type": "markdown",
   "metadata": {},
   "source": [
    "## Loop Over the Records to Find the Names and Payments\n",
    "\n",
    "The data records are contained in `data['data']`. \n",
    "\n",
    "To loop over the records to find the names and payments, first we need to determine the indices of the candidate names and the total payments.\n",
    "\n",
    "Let `name_index` be the column names of `CANDNAME` and `total_payments_index` be the column names of `TOTALPAY`. After correctly defining `name_index` and `total_payments_index`, print their respective indices.\n",
    "\n"
   ]
  },
  {
   "cell_type": "code",
   "execution_count": 23,
   "metadata": {},
   "outputs": [],
   "source": [
    "# Your code here (create more cells as needed)\n",
    "\n",
    "# In theory we could just look at the list and\n",
    "# count by hand to figure out the index of these\n",
    "# strings, but Python can do it for us\n",
    "\n",
    "name_index = 10\n",
    "total_payments_index = -1"
   ]
  },
  {
   "cell_type": "markdown",
   "metadata": {},
   "source": [
    "Now loop over the records in `data['data']` and extract the name from `name_index` and total payment from `total_payments_index`. Make sure you convert the total payment to a float, then make a tuple representing that candidate. Append the tuple to an overall list of results called `candidate_total_payments`.\n",
    "\n",
    "Recall that the first (`0`-th) one is more of a header and should be skipped over.\n",
    "\n",
    "To verify that your loop worked, print the first five and the last five records."
   ]
  },
  {
   "cell_type": "code",
   "execution_count": 37,
   "metadata": {},
   "outputs": [
    {
     "data": {
      "text/plain": [
       "[('Aboulafia, Sandy', 45410.0),\n",
       " ('Adams, Jackie R', 11073.0),\n",
       " ('Addabbo, Joseph P', 149320.0),\n",
       " ('Alamo-Estrada, Agustin', 27400.0),\n",
       " ('Allen, William A', 62990.0),\n",
       " ('Alleyne, Alithia', 0.0),\n",
       " ('Alonso, Miguel', 36801.0),\n",
       " ('Andrews, Jr., Anthony D', 88736.0),\n",
       " ('Ariola, JoAnn', 69816.0),\n",
       " ('Avella, Tony', 150520.0),\n",
       " ('Bader, Paul', 75350.0),\n",
       " ('Badillo, Herman', 356723.0),\n",
       " ('Baez, Maria', 90262.0),\n",
       " ('Baldwin-Ferguson, Imogene', 0.0),\n",
       " ('Banks, Steven R', 75350.0),\n",
       " ('Barron, Charles', 92498.0),\n",
       " ('Bastone, Terry A', 47820.0),\n",
       " ('Benjamin, Michael A', 108226.0),\n",
       " ('Berman, Herbert E', 1576860.0),\n",
       " ('Bernace, Victor A', 19520.0),\n",
       " ('Bilal, Charles A', 0.0),\n",
       " ('Blake, James', 51676.0),\n",
       " ('Bloodsaw, Daryl G', 37312.0),\n",
       " ('Bouchard, Michelle', 65704.0),\n",
       " ('Brewer, Gale A', 150700.0),\n",
       " ('Brook Krasny, Alec', 66304.0),\n",
       " ('Brooks, Curtis', 0.0),\n",
       " ('Brown, Everly D', 0.0),\n",
       " ('Brown, Michael E', 0.0),\n",
       " ('Cammarata, Joseph F', 73868.0),\n",
       " ('Carrion, Jr., Adolfo', 431802.0),\n",
       " ('Carroll, John W', 75350.0),\n",
       " ('Castellanos, Francesca M', 21292.0),\n",
       " ('Cermeli, Robert', 49572.0),\n",
       " ('Chan, Louisa M', 29444.0),\n",
       " ('Cheliotes, Arthur', 75350.0),\n",
       " ('Chen, Ethel T', 75350.0),\n",
       " ('Chin, Margaret S', 164123.0),\n",
       " ('Chin, Rockwell J', 166683.0),\n",
       " ('Chou, Evergreen C', 0.0),\n",
       " ('Ciafone, John J', 0.0),\n",
       " ('Clarke, Amanda L', 0.0),\n",
       " ('Clarke, Yvette D', 77922.0),\n",
       " ('Cohn, Steven D', 147160.0),\n",
       " ('Colon, Willie', 0.0),\n",
       " ('Comrie, Leroy G', 71388.0),\n",
       " ('Conley, Joseph T', 75350.0),\n",
       " ('Cooper-Gregory, Helen A', 75350.0),\n",
       " ('Crowley, Elizabeth S', 145096.0),\n",
       " ('Curran, Robert E', 0.0),\n",
       " ('Curry, Anthony', 0.0),\n",
       " ('Davis, James E', 122382.0),\n",
       " ('de Blasio, Bill', 142885.0),\n",
       " ('Del Giorno, Jon R', 75350.0),\n",
       " ('Del Villar, Angel', 0.0),\n",
       " ('DeMarco Jr., Alexander A', 0.0),\n",
       " ('Detiege-Cormier, Roy-Pierre', 0.0),\n",
       " ('Diamondstone, Kenneth A', 94946.0),\n",
       " ('DiBrienza, Stephen', 1336655.0),\n",
       " ('Dilan, Erik M', 80904.0),\n",
       " ('Dotson, Heyward H', 0.0),\n",
       " ('Doukas, Peter G', 65048.0),\n",
       " ('Eagan, Ann', 0.0),\n",
       " ('Eisland, June M', 316548.0),\n",
       " ('Espada, Jr., Pedro', 0.0),\n",
       " ('Espada, Pedro G', 55900.0),\n",
       " ('Evans, Jeanette', 0.0),\n",
       " ('Faison, Barbara', 0.0),\n",
       " ('Falcon-Lopez, Miriam T', 0.0),\n",
       " ('Farrakhan, Abdur Rahman', 0.0),\n",
       " ('Farrell, Matthew J', 75350.0),\n",
       " ('Felder, Simcha', 150700.0),\n",
       " ('Ferrer, Fernando', 2871933.0),\n",
       " ('Fidler, Lewis A', 142141.0),\n",
       " ('Fields, C. Virginia', 444452.0),\n",
       " ('Fields, Jessie', 135904.0),\n",
       " ('Fisher, Kenneth K', 647350.0),\n",
       " ('Flaxman, Sheila S', 0.0),\n",
       " ('Flores-Vazquez, Martha', 39476.0),\n",
       " ('Foley, Ronald G', 0.0),\n",
       " ('Foster, Helen Diane', 131798.0),\n",
       " ('Frank, John D', 52968.0),\n",
       " ('Fratta, John A', 91333.0),\n",
       " ('Freed, Kathryn E', 626484.0),\n",
       " ('Fullard, Henrietta', 0.0),\n",
       " ('Gadson, Jeanette', 521969.0),\n",
       " ('Gallagher, Dennis P', 75350.0),\n",
       " ('Gangemi, Ursula A', 48480.0),\n",
       " ('Gennaro, James F', 146314.0),\n",
       " ('Gerson, Alan J', 165783.0),\n",
       " ('Gioia, Eric', 148266.0),\n",
       " ('Golden, Martin J', 75350.0),\n",
       " ('Golding, Kenneth B', 0.0),\n",
       " ('Golub, Jay', 19900.0),\n",
       " ('Gonzalez-Jarrin, Aida A', 71940.0),\n",
       " ('Gotbaum, Betsy F', 1625090.0),\n",
       " ('Graziano, Paul D', 27320.0),\n",
       " ('Greco, Jr., Rudolph E', 75350.0),\n",
       " ('Green, Mark', 4534230.0),\n",
       " ('Greenwood, Doreen A', 78932.0),\n",
       " ('Gresser, Carol A', 596045.0),\n",
       " ('Grodenchik, Barry', 147626.0),\n",
       " ('Gutnik, Oleg', 90908.0),\n",
       " ('Haber, Jason S', 0.0),\n",
       " ('Hammerman, Craig R', 75350.0),\n",
       " ('Hernandez, Louis R', 10976.0),\n",
       " ('Herz, David R', 0.0),\n",
       " ('Hevesi, Alan G', 2641247.0),\n",
       " ('Hikind, Libby N', 124753.0),\n",
       " ('Hochhauser, Joseph K', 25020.0),\n",
       " ('Howell, Carol B', 0.0),\n",
       " ('Hoylman, Brad M', 91333.0),\n",
       " ('Hughes, Michael B', 0.0),\n",
       " ('Hui, Kwong T', 142973.0),\n",
       " ('Hunter, Robert A', 0.0),\n",
       " ('Hylton, Christian B', 51732.0),\n",
       " ('Iannece, Jerry M', 104602.0),\n",
       " ('Imprescia, Richard V', 0.0),\n",
       " ('Jackson, Gregory', 0.0),\n",
       " ('Jackson, Robert', 107262.0),\n",
       " ('James, Letitia', 147994.0),\n",
       " ('Jannaccio, Richard', 28736.0),\n",
       " ('Jefferson, Charlotte R', 53273.0),\n",
       " ('Jeffries-El, Joseph', 0.0),\n",
       " ('Jenkins, Cynthia', 0.0),\n",
       " ('Jenkins, Patrick B', 0.0),\n",
       " ('Jennings, Allan W', 41344.0),\n",
       " ('Jodha, Rameshwar', 0.0),\n",
       " ('Jorge, Chris', 45580.0),\n",
       " ('Kann, Jerry', 0.0),\n",
       " ('Katz, Melinda R', 150700.0),\n",
       " ('Kaufman, Jordan', 0.0),\n",
       " ('Kearney, Michael G', 75350.0),\n",
       " ('Kinard, Stanley', 0.0),\n",
       " ('Koppell, G. Oliver', 148090.0),\n",
       " ('Kramer, Kenny', 0.0),\n",
       " ('Lanza, Andrew J', 110891.0),\n",
       " ('Lasher, Susan', 53976.0),\n",
       " ('Law, Ronald', 0.0),\n",
       " ('Leffler, Sheldon S', 296084.0),\n",
       " ('Leighton, Thomas K', 0.0),\n",
       " ('Lesczynski, James L', 0.0),\n",
       " ('Levine, Mark D', 73320.0),\n",
       " ('Levy, Abraham', 55412.0),\n",
       " ('Lewis, Anna R', 77112.0),\n",
       " ('Lewis, Edward J', 30720.0),\n",
       " ('Lewis, Prince D', 0.0),\n",
       " ('Liu, John C', 150520.0),\n",
       " ('Lizardo, Roberto E', 75350.0),\n",
       " ('Lobo, Renee', 52672.0),\n",
       " ('Lopez, Margarita', 143682.0),\n",
       " ('Luciano, Felipe', 47720.0),\n",
       " ('Maio, Danniel S', 0.0),\n",
       " ('Mandell, Linda', 0.0),\n",
       " ('Marchant, Garth I', 110086.0),\n",
       " ('Markowitz, Marty', 1166294.0),\n",
       " ('Marshall, Helen M', 647173.0),\n",
       " ('Martin, Yolanda J', 0.0),\n",
       " ('Martinez, George', 0.0),\n",
       " ('Martinez, Juan D', 75350.0),\n",
       " ('Martinez, Miguel', 128786.0),\n",
       " ('Mascitti, Michael A', 0.0),\n",
       " ('Mateo, Heriberto', 68040.0),\n",
       " ('Mattera, Gloria', 31704.0),\n",
       " ('McCleary, Michelle L', 0.0),\n",
       " ('McMahon, Michael E', 150700.0),\n",
       " ('Miller, Robert J', 135118.0),\n",
       " ('Miranda, Anthony', 0.0),\n",
       " ('Molinaro, James P', 879456.0),\n",
       " ('Monserrate, Hiram', 74430.0),\n",
       " ('Montano, Armando', 90883.0),\n",
       " ('Moran, Janey', 56284.0),\n",
       " ('Morgan, Ishmael J', 21800.0),\n",
       " ('Morillo, Pedro', 0.0),\n",
       " ('Morisete-Romero, Victor', 75350.0),\n",
       " ('Moskowitz, Eva S', 150500.0),\n",
       " ('Nelson, Michael C', 63168.0),\n",
       " ('Norman, Edward J', 65496.0),\n",
       " ('Nunes-Ueno, Paulo', 0.0),\n",
       " (\"O'Donovan, Jerome X\", 647350.0),\n",
       " (\"O'Malley, Patrick\", 68724.0),\n",
       " ('Oddo, James S', 75350.0),\n",
       " ('Ortiz, Jr., Edwin O', 46752.0),\n",
       " ('Palmer, Samuel E', 75350.0),\n",
       " ('Park, Terence Y', 67286.0),\n",
       " ('Parker, Kevin', 75350.0),\n",
       " ('Perez, Richard', 63756.0),\n",
       " ('Perkins, Bill', 121650.0),\n",
       " ('Pina, Tirso S', 0.0),\n",
       " ('Poisson, Lola', 0.0),\n",
       " ('Puello, Giovanni', 50852.0),\n",
       " ('Pugliese, Anthony J', 75350.0),\n",
       " ('Purcell, Frances G', 67932.0),\n",
       " ('Quinn, Christine C', 0.0),\n",
       " ('Recchia, Domenic', 136327.0),\n",
       " ('Reed, Philip', 150700.0),\n",
       " ('Reich, David', 75350.0),\n",
       " ('Reiss, David J', 46048.0),\n",
       " ('Reyna, Diana', 150302.0),\n",
       " ('Rivera, Joel', 70444.0),\n",
       " ('Roberts, Edward A', 37780.0),\n",
       " ('Rodriguez, Angel', 75350.0),\n",
       " ('Rodriguez, Elizabeth', 31685.0),\n",
       " ('Rodriguez, Ydanis A', 116586.0),\n",
       " ('Romero, Michelle', 22172.0),\n",
       " ('Rose, Deborah', 132466.0),\n",
       " ('Rosero, Luis', 65356.0),\n",
       " ('Ruiz, Jr., Israel', 11423.0),\n",
       " ('Rupnarain, Trevor K', 75350.0),\n",
       " ('Saffran, Dennis J', 75350.0),\n",
       " ('Sanchez, Cynthia M', 0.0),\n",
       " ('Sanders, Jr., James J', 60152.0),\n",
       " ('Sansivieri, Linda', 75040.0),\n",
       " ('Sauer, Larry M', 62436.0),\n",
       " ('Saunders, Shirley J', 75350.0),\n",
       " ('Saunders, William J', 42075.0),\n",
       " ('Schulman, Lynn C', 74920.0),\n",
       " ('Schultheis, Magdalena U', 38088.0),\n",
       " ('Scissura, Carlo A', 75350.0),\n",
       " ('Seabrook, Larry B', 102426.0),\n",
       " ('Sears, Helen', 117915.0),\n",
       " ('Seeman, Craig A', 31632.0),\n",
       " ('Sementilli, Egidio J', 89502.0),\n",
       " ('Seminara, Joanne', 150700.0),\n",
       " ('Seminerio, John', 74350.0),\n",
       " ('Serrano, Jose M', 75160.0),\n",
       " ('Sharpe, Wellington', 0.0),\n",
       " ('Shepard, Joyce P', 55100.0),\n",
       " ('Sica, Philip T', 14632.0),\n",
       " ('Siegel, Norman H', 623300.0),\n",
       " ('Simon, Lew M', 74750.0),\n",
       " ('Simons, Earl G', 0.0),\n",
       " ('Singer, Pat', 61324.0),\n",
       " ('Singh, Inderjit', 0.0),\n",
       " ('Smith, Larry', 32189.0),\n",
       " ('Snyder, Gary D', 19124.0),\n",
       " ('Spalter, Laura', 75350.0),\n",
       " ('Spencer, Tony', 50782.0),\n",
       " ('Spirgel, Samuel C', 97454.0),\n",
       " ('Spitz, George N', 0.0),\n",
       " ('Stabile, Alfonso C', 0.0),\n",
       " ('Stavitsky, Inna', 53384.0),\n",
       " ('Stewart, Kendall B', 75350.0),\n",
       " ('Straniere, Robert A', 288388.0),\n",
       " ('Stringer, Scott M', 1223721.0),\n",
       " ('Taitt, Samuel A', 58530.0),\n",
       " ('Taliaferro, Phyllis', 0.0),\n",
       " ('Taveras, Germania', 0.0),\n",
       " ('Thakral, Jairam D', 75064.0),\n",
       " ('Thomas, Carl W', 0.0),\n",
       " ('Thompson, Jr., William C', 1096359.0),\n",
       " ('Tiraco, Joseph E', 0.0),\n",
       " ('Toney, Vaughan', 75350.0),\n",
       " ('Toppin, Roger N', 0.0),\n",
       " ('Torres, Mario A', 82082.0),\n",
       " ('Vallone, Jr., Peter F', 114910.0),\n",
       " ('Vallone, Peter F', 2458534.0),\n",
       " ('Van Bramer, James G', 133146.0),\n",
       " ('Vann, Albert', 75200.0),\n",
       " ('Vargas, Ruben Dario', 0.0),\n",
       " ('Vassos, Sandra', 68234.0),\n",
       " ('Vernet, Jean D', 70664.0),\n",
       " ('Viest, Nicholas D', 58488.0),\n",
       " ('Villaverde, Sergio', 0.0),\n",
       " ('Vogel, Mark H', 50112.0),\n",
       " ('Wai, Sidique A', 62184.0),\n",
       " ('Walker, John P', 44748.0),\n",
       " ('Walker, Willie', 0.0),\n",
       " ('Walsh, Ryan J', 21946.0),\n",
       " ('Wasserman, Abraham E', 41656.0),\n",
       " ('Wein, Joseph Funicell', 61260.0),\n",
       " ('Weir, Elias J', 0.0),\n",
       " ('Weprin, David I', 145850.0),\n",
       " ('Whitney, W Ruth', 0.0),\n",
       " ('Willebrand, Julia A', 0.0),\n",
       " ('Williams, Charles', 35808.0),\n",
       " ('Williams, Peter M', 75350.0),\n",
       " ('Williams-Pereira, Dorothy', 0.0),\n",
       " ('Wilson, Jay R', 0.0),\n",
       " ('Wilson, John H', 0.0),\n",
       " ('Wooten, Donald T', 0.0),\n",
       " ('Yassky, David', 150700.0),\n",
       " ('Zapiti, Mike', 12172.0),\n",
       " ('Zett, Lori M', 0.0)]"
      ]
     },
     "execution_count": 37,
     "metadata": {},
     "output_type": "execute_result"
    }
   ],
   "source": [
    "# Your code here (create more cells as needed)\n",
    "\n",
    "\n",
    "\n",
    "# Loop over records starting at index 1 to skip header\n",
    "\n",
    "candidate_total_payments = [(data['data'][i][name_index],float(data['data'][i][total_payments_index])) for i in range(1,len(data['data']))]\n",
    "\n",
    "# Print the first five and last five\n",
    "candidate_total_payments"
   ]
  },
  {
   "cell_type": "code",
   "execution_count": 38,
   "metadata": {},
   "outputs": [],
   "source": [
    "# Run this cell without changes\n",
    "\n",
    "# There should be 284 records\n",
    "assert len(candidate_total_payments) == 284\n",
    "\n",
    "# Each record should contain a tuple\n",
    "assert type(candidate_total_payments[0]) == tuple\n",
    "\n",
    "# That tuple should contain a string and a number\n",
    "assert len(candidate_total_payments[0]) == 2\n",
    "assert type(candidate_total_payments[0][0]) == str\n",
    "assert type(candidate_total_payments[0][1]) == float"
   ]
  },
  {
   "cell_type": "markdown",
   "metadata": {},
   "source": [
    "Now that we have this result, we can answer questions like: *which candidates received the most total payments from the city*?"
   ]
  },
  {
   "cell_type": "code",
   "execution_count": 39,
   "metadata": {},
   "outputs": [
    {
     "data": {
      "text/plain": [
       "[('Green, Mark', 4534230.0),\n",
       " ('Ferrer, Fernando', 2871933.0),\n",
       " ('Hevesi, Alan G', 2641247.0),\n",
       " ('Vallone, Peter F', 2458534.0),\n",
       " ('Gotbaum, Betsy F', 1625090.0),\n",
       " ('Berman, Herbert E', 1576860.0),\n",
       " ('DiBrienza, Stephen', 1336655.0),\n",
       " ('Stringer, Scott M', 1223721.0),\n",
       " ('Markowitz, Marty', 1166294.0),\n",
       " ('Thompson, Jr., William C', 1096359.0)]"
      ]
     },
     "execution_count": 39,
     "metadata": {},
     "output_type": "execute_result"
    }
   ],
   "source": [
    "# Run this cell without changes\n",
    "\n",
    "# Print the top 10 candidates by total payments\n",
    "sorted(candidate_total_payments, key=lambda x: x[1], reverse=True)[:10]"
   ]
  },
  {
   "cell_type": "markdown",
   "metadata": {},
   "source": [
    "Since you found all of the column names, it is also possible to display all of the data in a nice tabular format using pandas. That code would look like this:"
   ]
  },
  {
   "cell_type": "code",
   "execution_count": null,
   "metadata": {},
   "outputs": [],
   "source": [
    "# Run this cell without changes\n",
    "\n",
    "import pandas as pd\n",
    "\n",
    "pd.DataFrame(data=data['data'][1:], columns=column_names)"
   ]
  },
  {
   "cell_type": "markdown",
   "metadata": {},
   "source": [
    "## Summary\n",
    "\n",
    "You've started exploring some more JSON data structures used for the web and got to practice data munging and exploring."
   ]
  },
  {
   "cell_type": "code",
   "execution_count": null,
   "metadata": {},
   "outputs": [],
   "source": []
  }
 ],
 "metadata": {
  "kernelspec": {
   "display_name": "Python (learn-env)",
   "language": "python",
   "name": "learn-env"
  },
  "language_info": {
   "codemirror_mode": {
    "name": "ipython",
    "version": 3
   },
   "file_extension": ".py",
   "mimetype": "text/x-python",
   "name": "python",
   "nbconvert_exporter": "python",
   "pygments_lexer": "ipython3",
   "version": "3.8.5"
  },
  "toc": {
   "base_numbering": 1,
   "nav_menu": {},
   "number_sections": true,
   "sideBar": true,
   "skip_h1_title": false,
   "title_cell": "Table of Contents",
   "title_sidebar": "Contents",
   "toc_cell": false,
   "toc_position": {},
   "toc_section_display": true,
   "toc_window_display": false
  }
 },
 "nbformat": 4,
 "nbformat_minor": 2
}
